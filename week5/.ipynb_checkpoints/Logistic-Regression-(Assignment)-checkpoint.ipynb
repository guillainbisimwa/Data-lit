{
 "cells": [
  {
   "cell_type": "markdown",
   "metadata": {
    "colab_type": "text",
    "id": "view-in-github"
   },
   "source": [
    "<a href=\"https://colab.research.google.com/github/guillainbisimwa/Data-lit/blob/master/week5/Logistic-Regression-(Assignment).ipynb\" target=\"_parent\"><img src=\"https://colab.research.google.com/assets/colab-badge.svg\" alt=\"Open In Colab\"/></a>"
   ]
  },
  {
   "cell_type": "markdown",
   "metadata": {
    "colab_type": "text",
    "id": "xYb_oQ5xWC_5"
   },
   "source": [
    "**Logistic-Regression-(Assignment)**\n",
    "# House prices prediction (DATA LIT)\n",
    "\n",
    "### GitHub repository: https://github.com/guillainbisimwa/Data-lit/blob/master/week4/House-prices-prediction.ipynb\n",
    "\n",
    "### Owner: GuillainBISIMWA\n",
    "\n",
    "- GitHub: https://github.com/guillainbisimwa\n",
    "- Twitter: https://twitter.com/gullain_bisimwa\n",
    "- YouTube: https://www.youtube.com/guillainbisimwa"
   ]
  },
  {
   "cell_type": "code",
   "execution_count": 0,
   "metadata": {
    "colab": {},
    "colab_type": "code",
    "id": "OnS5FfxnVOSC"
   },
   "outputs": [],
   "source": [
    "import pandas as pd\n",
    "import numpy as np"
   ]
  }
 ],
 "metadata": {
  "colab": {
   "include_colab_link": true,
   "name": "Untitled7.ipynb",
   "provenance": [],
   "version": "0.3.2"
  },
  "kernelspec": {
   "display_name": "Python 3",
   "language": "python",
   "name": "python3"
  },
  "language_info": {
   "codemirror_mode": {
    "name": "ipython",
    "version": 3
   },
   "file_extension": ".py",
   "mimetype": "text/x-python",
   "name": "python",
   "nbconvert_exporter": "python",
   "pygments_lexer": "ipython3",
   "version": "3.5.3"
  }
 },
 "nbformat": 4,
 "nbformat_minor": 1
}
