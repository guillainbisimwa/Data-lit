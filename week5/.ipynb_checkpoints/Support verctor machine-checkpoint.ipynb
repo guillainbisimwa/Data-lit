{
 "cells": [
  {
   "cell_type": "code",
   "execution_count": 6,
   "metadata": {},
   "outputs": [],
   "source": [
    "import numpy as np"
   ]
  },
  {
   "cell_type": "code",
   "execution_count": 7,
   "metadata": {},
   "outputs": [],
   "source": [
    "from matplotlib import pyplot as plt"
   ]
  },
  {
   "cell_type": "code",
   "execution_count": 8,
   "metadata": {},
   "outputs": [],
   "source": [
    "%matplotlib inline"
   ]
  },
  {
   "cell_type": "markdown",
   "metadata": {},
   "source": [
    "# Data"
   ]
  },
  {
   "cell_type": "code",
   "execution_count": 10,
   "metadata": {},
   "outputs": [],
   "source": [
    "# x,y ,bias\n",
    "X = np.array([\n",
    "    [-2,4,-1],\n",
    "    [4,1,-1],\n",
    "    [1,6,-1],\n",
    "    [2,4,-1],\n",
    "    [6,2,-1],\n",
    "])"
   ]
  },
  {
   "cell_type": "code",
   "execution_count": 12,
   "metadata": {},
   "outputs": [],
   "source": [
    "# Associated output label\n",
    "Y = np.array([-1,-1,1,1,1])"
   ]
  },
  {
   "cell_type": "code",
   "execution_count": 17,
   "metadata": {},
   "outputs": [
    {
     "data": {
      "text/plain": [
       "[<matplotlib.lines.Line2D at 0x7f96f53a54a8>]"
      ]
     },
     "execution_count": 17,
     "metadata": {},
     "output_type": "execute_result"
    },
    {
     "data": {
      "image/png": "[encoded data removed]",
      "text/plain": [
       "<Figure size 432x288 with 1 Axes>"
      ]
     },
     "metadata": {
      "needs_background": "light"
     },
     "output_type": "display_data"
    }
   ],
   "source": [
    "# Plotin this exemple in 2D graph\n",
    "# For eache exwmple\n",
    "for d, sample in enumerate(X):\n",
    "    # plot the negative sample (-2)\n",
    "    if d < 2:\n",
    "        plt.scatter(sample[0], sample[1], s=120, marker=\"_\", linewidths=2)\n",
    "    # PLot the positive sample (3)\n",
    "    else:\n",
    "        plt.scatter(sample[0], sample[1], s=120, marker=\"+\", linewidths=2)\n",
    "        \n",
    "plt.plot([-2,6],[6,0.5])"
   ]
  },
  {
   "cell_type": "code",
   "execution_count": null,
   "metadata": {},
   "outputs": [],
   "source": [
    "def svn_sgd_plot(x,y):\n",
    "    # init the SVMs weight vwtors with 0\n",
    "    w = np.zeros(len(X[0]))\n",
    "    # Learnig rate\n",
    "    eta = 1\n",
    "    # Interactions to train for\n",
    "    epochs = 100000\n",
    "    # Store the misclassification\n",
    "    errors = []\n",
    "    \n",
    "    # Training part, gradient descent\n",
    "    for epoch in range(1, epochs):\n",
    "        error = 0\n",
    "        for i, x in enumerate(X):\n",
    "            # Missclassification\n",
    "            if (Y[i]*np.dot(X[i],w)) < 1:\n",
    "                # Misclassified update for ours weights\n",
    "                w = w + eta * ( (X[i] * Y[i]) +(-2 * (1/epoch) * w))\n",
    "                error = 1\n",
    "            else:\n",
    "                # Correct classification, update weights\n",
    "                w = w + eta * (-2 * (1/epoch) * w)\n",
    "        errors.append(error)\n",
    "    plt.plot(errors, '|')\n",
    "    plt.ylim(0.5, 1.5)\n",
    "    plt.axes().set_ytickables([])\n",
    "    plt.xlabel('Epoch')\n",
    "    "
   ]
  }
 ],
 "metadata": {
  "kernelspec": {
   "display_name": "Python 3",
   "language": "python",
   "name": "python3"
  },
  "language_info": {
   "codemirror_mode": {
    "name": "ipython",
    "version": 3
   },
   "file_extension": ".py",
   "mimetype": "text/x-python",
   "name": "python",
   "nbconvert_exporter": "python",
   "pygments_lexer": "ipython3",
   "version": "3.5.3"
  }
 },
 "nbformat": 4,
 "nbformat_minor": 2
}
