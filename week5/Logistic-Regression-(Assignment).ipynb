{
 "cells": [
  {
   "cell_type": "markdown",
   "metadata": {
    "colab_type": "text",
    "id": "xYb_oQ5xWC_5"
   },
   "source": [
    "# Logistic-Regression-(Assignment) (DATA LIT)\n",
    "\n",
    "### GitHub repository: https://github.com/guillainbisimwa/Data-lit/blob/master/week5/Logistic-Regression-(Assignment).ipynb\n",
    "\n",
    "### Owner: GuillainBISIMWA\n",
    "\n",
    "- GitHub: https://github.com/guillainbisimwa\n",
    "- Twitter: https://twitter.com/gullain_bisimwa\n",
    "- YouTube: https://www.youtube.com/guillainbisimwa"
   ]
  },
  {
   "cell_type": "code",
   "execution_count": 183,
   "metadata": {
    "colab": {},
    "colab_type": "code",
    "id": "OnS5FfxnVOSC"
   },
   "outputs": [],
   "source": [
    "import pandas as pd\n",
    "import numpy as np\n",
    "import matplotlib.pyplot as plt\n",
    "import seaborn as sn"
   ]
  },
  {
   "cell_type": "code",
   "execution_count": 184,
   "metadata": {},
   "outputs": [],
   "source": [
    "from sklearn.linear_model import LogisticRegression\n",
    "from sklearn import metrics"
   ]
  },
  {
   "cell_type": "code",
   "execution_count": 185,
   "metadata": {},
   "outputs": [],
   "source": [
    "%matplotlib inline"
   ]
  },
  {
   "cell_type": "markdown",
   "metadata": {},
   "source": [
    "## 1. Importing Data"
   ]
  },
  {
   "cell_type": "code",
   "execution_count": 186,
   "metadata": {},
   "outputs": [],
   "source": [
    "columns = ['Age','Workclass','fnlgwt','Education','Education num','Marital Status',\n",
    "           'Occupation','Relationship','Race','Sex','Capital Gain','Capital Loss',\n",
    "           'Hours/Week','Native country','Income']\n",
    "\n",
    "train_data = pd.read_csv('Data/adult-training.csv', names=columns)\n",
    "test_data = pd.read_csv('Data/adult-test.csv', names=columns, skiprows=1)"
   ]
  },
  {
   "cell_type": "code",
   "execution_count": 187,
   "metadata": {
    "scrolled": false
   },
   "outputs": [
    {
     "data": {
      "text/html": [
       "<div>\n",
       "<style scoped>\n",
       "    .dataframe tbody tr th:only-of-type {\n",
       "        vertical-align: middle;\n",
       "    }\n",
       "\n",
       "    .dataframe tbody tr th {\n",
       "        vertical-align: top;\n",
       "    }\n",
       "\n",
       "    .dataframe thead th {\n",
       "        text-align: right;\n",
       "    }\n",
       "</style>\n",
       "<table border=\"1\" class=\"dataframe\">\n",
       "  <thead>\n",
       "    <tr style=\"text-align: right;\">\n",
       "      <th></th>\n",
       "      <th>Age</th>\n",
       "      <th>Workclass</th>\n",
       "      <th>fnlgwt</th>\n",
       "      <th>Education</th>\n",
       "      <th>Education num</th>\n",
       "      <th>Marital Status</th>\n",
       "      <th>Occupation</th>\n",
       "      <th>Relationship</th>\n",
       "      <th>Race</th>\n",
       "      <th>Sex</th>\n",
       "      <th>Capital Gain</th>\n",
       "      <th>Capital Loss</th>\n",
       "      <th>Hours/Week</th>\n",
       "      <th>Native country</th>\n",
       "      <th>Income</th>\n",
       "    </tr>\n",
       "  </thead>\n",
       "  <tbody>\n",
       "    <tr>\n",
       "      <th>0</th>\n",
       "      <td>39</td>\n",
       "      <td>State-gov</td>\n",
       "      <td>77516</td>\n",
       "      <td>Bachelors</td>\n",
       "      <td>13</td>\n",
       "      <td>Never-married</td>\n",
       "      <td>Adm-clerical</td>\n",
       "      <td>Not-in-family</td>\n",
       "      <td>White</td>\n",
       "      <td>Male</td>\n",
       "      <td>2174</td>\n",
       "      <td>0</td>\n",
       "      <td>40</td>\n",
       "      <td>United-States</td>\n",
       "      <td>&lt;=50K</td>\n",
       "    </tr>\n",
       "    <tr>\n",
       "      <th>1</th>\n",
       "      <td>50</td>\n",
       "      <td>Self-emp-not-inc</td>\n",
       "      <td>83311</td>\n",
       "      <td>Bachelors</td>\n",
       "      <td>13</td>\n",
       "      <td>Married-civ-spouse</td>\n",
       "      <td>Exec-managerial</td>\n",
       "      <td>Husband</td>\n",
       "      <td>White</td>\n",
       "      <td>Male</td>\n",
       "      <td>0</td>\n",
       "      <td>0</td>\n",
       "      <td>13</td>\n",
       "      <td>United-States</td>\n",
       "      <td>&lt;=50K</td>\n",
       "    </tr>\n",
       "    <tr>\n",
       "      <th>2</th>\n",
       "      <td>38</td>\n",
       "      <td>Private</td>\n",
       "      <td>215646</td>\n",
       "      <td>HS-grad</td>\n",
       "      <td>9</td>\n",
       "      <td>Divorced</td>\n",
       "      <td>Handlers-cleaners</td>\n",
       "      <td>Not-in-family</td>\n",
       "      <td>White</td>\n",
       "      <td>Male</td>\n",
       "      <td>0</td>\n",
       "      <td>0</td>\n",
       "      <td>40</td>\n",
       "      <td>United-States</td>\n",
       "      <td>&lt;=50K</td>\n",
       "    </tr>\n",
       "    <tr>\n",
       "      <th>3</th>\n",
       "      <td>53</td>\n",
       "      <td>Private</td>\n",
       "      <td>234721</td>\n",
       "      <td>11th</td>\n",
       "      <td>7</td>\n",
       "      <td>Married-civ-spouse</td>\n",
       "      <td>Handlers-cleaners</td>\n",
       "      <td>Husband</td>\n",
       "      <td>Black</td>\n",
       "      <td>Male</td>\n",
       "      <td>0</td>\n",
       "      <td>0</td>\n",
       "      <td>40</td>\n",
       "      <td>United-States</td>\n",
       "      <td>&lt;=50K</td>\n",
       "    </tr>\n",
       "    <tr>\n",
       "      <th>4</th>\n",
       "      <td>28</td>\n",
       "      <td>Private</td>\n",
       "      <td>338409</td>\n",
       "      <td>Bachelors</td>\n",
       "      <td>13</td>\n",
       "      <td>Married-civ-spouse</td>\n",
       "      <td>Prof-specialty</td>\n",
       "      <td>Wife</td>\n",
       "      <td>Black</td>\n",
       "      <td>Female</td>\n",
       "      <td>0</td>\n",
       "      <td>0</td>\n",
       "      <td>40</td>\n",
       "      <td>Cuba</td>\n",
       "      <td>&lt;=50K</td>\n",
       "    </tr>\n",
       "  </tbody>\n",
       "</table>\n",
       "</div>"
      ],
      "text/plain": [
       "   Age          Workclass  fnlgwt   Education  Education num  \\\n",
       "0   39          State-gov   77516   Bachelors             13   \n",
       "1   50   Self-emp-not-inc   83311   Bachelors             13   \n",
       "2   38            Private  215646     HS-grad              9   \n",
       "3   53            Private  234721        11th              7   \n",
       "4   28            Private  338409   Bachelors             13   \n",
       "\n",
       "        Marital Status          Occupation    Relationship    Race      Sex  \\\n",
       "0        Never-married        Adm-clerical   Not-in-family   White     Male   \n",
       "1   Married-civ-spouse     Exec-managerial         Husband   White     Male   \n",
       "2             Divorced   Handlers-cleaners   Not-in-family   White     Male   \n",
       "3   Married-civ-spouse   Handlers-cleaners         Husband   Black     Male   \n",
       "4   Married-civ-spouse      Prof-specialty            Wife   Black   Female   \n",
       "\n",
       "   Capital Gain  Capital Loss  Hours/Week  Native country  Income  \n",
       "0          2174             0          40   United-States   <=50K  \n",
       "1             0             0          13   United-States   <=50K  \n",
       "2             0             0          40   United-States   <=50K  \n",
       "3             0             0          40   United-States   <=50K  \n",
       "4             0             0          40            Cuba   <=50K  "
      ]
     },
     "execution_count": 187,
     "metadata": {},
     "output_type": "execute_result"
    }
   ],
   "source": [
    "train_data.head()"
   ]
  },
  {
   "cell_type": "markdown",
   "metadata": {},
   "source": [
    "## 2. Clean data"
   ]
  },
  {
   "cell_type": "code",
   "execution_count": 188,
   "metadata": {},
   "outputs": [],
   "source": [
    "train_data.replace(' ?', np.nan, inplace=True)\n",
    "test_data.replace(' ?', np.nan, inplace=True)"
   ]
  },
  {
   "cell_type": "code",
   "execution_count": 189,
   "metadata": {},
   "outputs": [
    {
     "data": {
      "text/plain": [
       "Occupation        1843\n",
       "Workclass         1836\n",
       "Native country     583\n",
       "Income               0\n",
       "Hours/Week           0\n",
       "Capital Loss         0\n",
       "Capital Gain         0\n",
       "Sex                  0\n",
       "Race                 0\n",
       "Relationship         0\n",
       "Marital Status       0\n",
       "Education num        0\n",
       "Education            0\n",
       "fnlgwt               0\n",
       "Age                  0\n",
       "dtype: int64"
      ]
     },
     "execution_count": 189,
     "metadata": {},
     "output_type": "execute_result"
    }
   ],
   "source": [
    "train_data.isnull().sum().sort_values(ascending=False)"
   ]
  },
  {
   "cell_type": "markdown",
   "metadata": {},
   "source": [
    "### * Fill the NaN values to zero"
   ]
  },
  {
   "cell_type": "code",
   "execution_count": 190,
   "metadata": {},
   "outputs": [],
   "source": [
    "mode = train_data['Occupation'].mode()[0]\n",
    "train_data['Occupation'].fillna(value=mode, inplace=True)\n",
    "mode = test_data['Occupation'].mode()[0]\n",
    "test_data['Occupation'].fillna(value=mode, inplace=True)\n",
    "\n",
    "mode = train_data['Workclass'].mode()[0]\n",
    "train_data['Workclass'].fillna(value=mode, inplace=True)\n",
    "mode = test_data['Workclass'].mode()[0]\n",
    "test_data['Workclass'].fillna(value=mode, inplace=True)\n",
    "\n",
    "mode = train_data['Native country'].mode()[0]\n",
    "train_data['Native country'].fillna(value=mode, inplace=True)\n",
    "mode = test_data['Native country'].mode()[0]\n",
    "test_data['Native country'].fillna(value=mode, inplace=True)"
   ]
  },
  {
   "cell_type": "markdown",
   "metadata": {},
   "source": [
    "### * Merge some Workclass which has the closer meaning"
   ]
  },
  {
   "cell_type": "code",
   "execution_count": 191,
   "metadata": {},
   "outputs": [],
   "source": [
    "train_data.replace(' Never-worked', ' Without-pay', inplace=True)\n",
    "test_data.replace(' Never-worked', ' Without-pay', inplace=True)"
   ]
  },
  {
   "cell_type": "markdown",
   "metadata": {},
   "source": [
    "### * Duplicate some columns and convert them into integers to better understand them"
   ]
  },
  {
   "cell_type": "code",
   "execution_count": 192,
   "metadata": {},
   "outputs": [],
   "source": [
    "train_data['_Marital Status'] = train_data['Marital Status']\n",
    "test_data['_Marital Status'] = test_data['Marital Status']"
   ]
  },
  {
   "cell_type": "code",
   "execution_count": 193,
   "metadata": {},
   "outputs": [],
   "source": [
    "train_data['_Workclass'] = train_data.Workclass\n",
    "test_data['_Workclass'] = test_data.Workclass"
   ]
  },
  {
   "cell_type": "code",
   "execution_count": 194,
   "metadata": {},
   "outputs": [],
   "source": [
    "train_data['_Occupation'] = train_data.Occupation\n",
    "test_data['_Occupation'] = test_data.Occupation"
   ]
  },
  {
   "cell_type": "code",
   "execution_count": 195,
   "metadata": {},
   "outputs": [],
   "source": [
    "train_data['_Relationship'] = train_data.Relationship\n",
    "test_data['_Relationship'] = test_data.Relationship"
   ]
  },
  {
   "cell_type": "code",
   "execution_count": 196,
   "metadata": {},
   "outputs": [],
   "source": [
    "train_data['_Race'] = train_data.Race\n",
    "test_data['_Race'] = test_data.Race"
   ]
  },
  {
   "cell_type": "code",
   "execution_count": 197,
   "metadata": {},
   "outputs": [],
   "source": [
    "train_data['_Sex'] = train_data.Sex\n",
    "test_data['_Sex'] = test_data.Sex"
   ]
  },
  {
   "cell_type": "code",
   "execution_count": 198,
   "metadata": {},
   "outputs": [],
   "source": [
    "train_data['_Income'] = train_data.Income\n",
    "test_data['_Income'] = test_data.Income"
   ]
  },
  {
   "cell_type": "markdown",
   "metadata": {},
   "source": [
    "### * Convert duplicated columns into integers"
   ]
  },
  {
   "cell_type": "code",
   "execution_count": 199,
   "metadata": {},
   "outputs": [
    {
     "data": {
      "text/plain": [
       " Private             24532\n",
       " Self-emp-not-inc     2541\n",
       " Local-gov            2093\n",
       " State-gov            1298\n",
       " Self-emp-inc         1116\n",
       " Federal-gov           960\n",
       " Without-pay            21\n",
       "Name: _Workclass, dtype: int64"
      ]
     },
     "execution_count": 199,
     "metadata": {},
     "output_type": "execute_result"
    }
   ],
   "source": [
    "train_data._Workclass.value_counts()"
   ]
  },
  {
   "cell_type": "code",
   "execution_count": 200,
   "metadata": {},
   "outputs": [],
   "source": [
    "train_data._Workclass.replace(' Private', 1, inplace=True)\n",
    "train_data._Workclass.replace(' Self-emp-not-inc', 2, inplace=True)\n",
    "train_data._Workclass.replace(' Local-gov', 3, inplace=True)\n",
    "train_data._Workclass.replace(' State-gov', 4, inplace=True)\n",
    "train_data._Workclass.replace(' Self-emp-inc', 5, inplace=True)\n",
    "train_data._Workclass.replace(' Federal-gov', 6, inplace=True)\n",
    "train_data._Workclass.replace(' Without-pay', 7, inplace=True)\n",
    "\n",
    "test_data._Workclass.replace(' Private', 1, inplace=True)\n",
    "test_data._Workclass.replace(' Self-emp-not-inc', 2, inplace=True)\n",
    "test_data._Workclass.replace(' Local-gov', 3, inplace=True)\n",
    "test_data._Workclass.replace(' State-gov', 4, inplace=True)\n",
    "test_data._Workclass.replace(' Self-emp-inc', 5, inplace=True)\n",
    "test_data._Workclass.replace(' Federal-gov', 6, inplace=True)\n",
    "test_data._Workclass.replace(' Without-pay', 7, inplace=True)"
   ]
  },
  {
   "cell_type": "code",
   "execution_count": 201,
   "metadata": {},
   "outputs": [],
   "source": [
    "train_data['_Marital Status'].replace(' Married-civ-spouse', 1, inplace=True)\n",
    "train_data['_Marital Status'].replace(' Never-married', 2, inplace=True)\n",
    "train_data['_Marital Status'].replace(' Divorced', 3, inplace=True)\n",
    "train_data['_Marital Status'].replace(' Separated', 4, inplace=True)\n",
    "train_data['_Marital Status'].replace(' Widowed', 5, inplace=True)\n",
    "train_data['_Marital Status'].replace(' Married-spouse-absent', 6, inplace=True)\n",
    "train_data['_Marital Status'].replace(' Married-AF-spouse', 7, inplace=True)\n",
    "\n",
    "test_data['_Marital Status'].replace(' Married-civ-spouse', 1, inplace=True)\n",
    "test_data['_Marital Status'].replace(' Never-married', 2, inplace=True)\n",
    "test_data['_Marital Status'].replace(' Divorced', 3, inplace=True)\n",
    "test_data['_Marital Status'].replace(' Separated', 4, inplace=True)\n",
    "test_data['_Marital Status'].replace(' Widowed', 5, inplace=True)\n",
    "test_data['_Marital Status'].replace(' Married-spouse-absent', 6, inplace=True)\n",
    "test_data['_Marital Status'].replace(' Married-AF-spouse', 7, inplace=True)"
   ]
  },
  {
   "cell_type": "code",
   "execution_count": 202,
   "metadata": {},
   "outputs": [],
   "source": [
    "train_data._Occupation.replace(' Prof-specialty', 1, inplace=True)\n",
    "train_data._Occupation.replace(' Craft-repair', 2, inplace=True)\n",
    "train_data._Occupation.replace(' Exec-managerial', 3, inplace=True)\n",
    "train_data._Occupation.replace(' Adm-clerical', 4, inplace=True)\n",
    "train_data._Occupation.replace(' Sales', 5, inplace=True)\n",
    "train_data._Occupation.replace(' Other-service', 6, inplace=True)\n",
    "train_data._Occupation.replace(' Machine-op-inspct', 7, inplace=True)\n",
    "train_data._Occupation.replace(' Transport-moving', 8, inplace=True)\n",
    "train_data._Occupation.replace(' Handlers-cleaners', 9, inplace=True)\n",
    "train_data._Occupation.replace(' Farming-fishing', 10, inplace=True)\n",
    "train_data._Occupation.replace(' Tech-support', 11, inplace=True)\n",
    "train_data._Occupation.replace(' Protective-serv', 12, inplace=True)\n",
    "train_data._Occupation.replace(' Priv-house-serv', 13, inplace=True)\n",
    "train_data._Occupation.replace(' Armed-Forces', 14, inplace=True)\n",
    "\n",
    "test_data._Occupation.replace(' Prof-specialty', 1, inplace=True)\n",
    "test_data._Occupation.replace(' Craft-repair', 2, inplace=True)\n",
    "test_data._Occupation.replace(' Exec-managerial', 3, inplace=True)\n",
    "test_data._Occupation.replace(' Adm-clerical', 4, inplace=True)\n",
    "test_data._Occupation.replace(' Sales', 5, inplace=True)\n",
    "test_data._Occupation.replace(' Other-service', 6, inplace=True)\n",
    "test_data._Occupation.replace(' Machine-op-inspct', 7, inplace=True)\n",
    "test_data._Occupation.replace(' Transport-moving', 8, inplace=True)\n",
    "test_data._Occupation.replace(' Handlers-cleaners', 9, inplace=True)\n",
    "test_data._Occupation.replace(' Farming-fishing', 10, inplace=True)\n",
    "test_data._Occupation.replace(' Tech-support', 11, inplace=True)\n",
    "test_data._Occupation.replace(' Protective-serv', 12, inplace=True)\n",
    "test_data._Occupation.replace(' Priv-house-serv', 13, inplace=True)\n",
    "test_data._Occupation.replace(' Armed-Forces', 14, inplace=True)"
   ]
  },
  {
   "cell_type": "code",
   "execution_count": 203,
   "metadata": {},
   "outputs": [],
   "source": [
    "train_data._Relationship.replace(' Husband', 1, inplace=True)\n",
    "train_data._Relationship.replace(' Not-in-family', 2, inplace=True)\n",
    "train_data._Relationship.replace(' Own-child', 3, inplace=True)\n",
    "train_data._Relationship.replace(' Unmarried', 4, inplace=True)\n",
    "train_data._Relationship.replace(' Wife', 5, inplace=True)\n",
    "train_data._Relationship.replace(' Other-relative', 6, inplace=True)\n",
    "\n",
    "test_data._Relationship.replace(' Husband', 1, inplace=True)\n",
    "test_data._Relationship.replace(' Not-in-family', 2, inplace=True)\n",
    "test_data._Relationship.replace(' Own-child', 3, inplace=True)\n",
    "test_data._Relationship.replace(' Unmarried', 4, inplace=True)\n",
    "test_data._Relationship.replace(' Wife', 5, inplace=True)\n",
    "test_data._Relationship.replace(' Other-relative', 6, inplace=True)"
   ]
  },
  {
   "cell_type": "code",
   "execution_count": 204,
   "metadata": {},
   "outputs": [],
   "source": [
    "train_data._Race.replace(' White', 1, inplace=True)\n",
    "train_data._Race.replace(' Black', 2, inplace=True)\n",
    "train_data._Race.replace(' Asian-Pac-Islander', 3, inplace=True)\n",
    "train_data._Race.replace(' Amer-Indian-Eskimo', 4, inplace=True)\n",
    "train_data._Race.replace(' Other', 5, inplace=True)\n",
    "\n",
    "test_data._Race.replace(' White', 1, inplace=True)\n",
    "test_data._Race.replace(' Black', 2, inplace=True)\n",
    "test_data._Race.replace(' Asian-Pac-Islander', 3, inplace=True)\n",
    "test_data._Race.replace(' Amer-Indian-Eskimo', 4, inplace=True)\n",
    "test_data._Race.replace(' Other', 5, inplace=True)"
   ]
  },
  {
   "cell_type": "code",
   "execution_count": 205,
   "metadata": {},
   "outputs": [],
   "source": [
    "train_data._Sex.replace(' Male', 1, inplace=True)\n",
    "train_data._Sex.replace(' Female', 2, inplace=True)\n",
    "\n",
    "test_data._Sex.replace(' Male', 1, inplace=True)\n",
    "test_data._Sex.replace(' Female', 2, inplace=True)"
   ]
  },
  {
   "cell_type": "code",
   "execution_count": 206,
   "metadata": {},
   "outputs": [],
   "source": [
    "train_data._Income.replace(' <=50K', 0, inplace=True)\n",
    "train_data._Income.replace(' >50K', 1, inplace=True)\n",
    "\n",
    "test_data._Income.replace(' <=50K', 0, inplace=True)\n",
    "test_data._Income.replace(' >50K', 1, inplace=True)"
   ]
  },
  {
   "cell_type": "markdown",
   "metadata": {},
   "source": [
    "## 3. Model building in Scikit-learn"
   ]
  },
  {
   "cell_type": "markdown",
   "metadata": {},
   "source": [
    "Let's build the income prediction model.\n",
    "\n",
    "Here, you are going to predict income using Logistic Regression Classifier.\n",
    "\n",
    "Let's first load the required train_data \n"
   ]
  },
  {
   "cell_type": "markdown",
   "metadata": {},
   "source": [
    "### * Choose the best correlated variables"
   ]
  },
  {
   "cell_type": "code",
   "execution_count": 207,
   "metadata": {},
   "outputs": [
    {
     "data": {
      "image/png": "[encoded data removed]",
      "text/plain": [
       "<Figure size 864x648 with 2 Axes>"
      ]
     },
     "metadata": {
      "needs_background": "light"
     },
     "output_type": "display_data"
    }
   ],
   "source": [
    "corrmat = train_data.corr()\n",
    "f, ax = plt.subplots(figsize=(12, 9))\n",
    "sn.heatmap(corrmat, vmax=.8, square=True);"
   ]
  },
  {
   "cell_type": "code",
   "execution_count": 208,
   "metadata": {},
   "outputs": [],
   "source": [
    "cols = ['Age','Education num','Capital Gain','Capital Loss','Hours/Week','_Workclass']\n",
    "X_train = train_data[cols]\n",
    "y_train = train_data._Income\n",
    "X_test = test_data[cols]\n",
    "# predict y_test?"
   ]
  },
  {
   "cell_type": "code",
   "execution_count": 209,
   "metadata": {},
   "outputs": [
    {
     "name": "stdout",
     "output_type": "stream",
     "text": [
      "<class 'pandas.core.frame.DataFrame'>\n",
      "RangeIndex: 32561 entries, 0 to 32560\n",
      "Data columns (total 6 columns):\n",
      "Age              32561 non-null int64\n",
      "Education num    32561 non-null int64\n",
      "Capital Gain     32561 non-null int64\n",
      "Capital Loss     32561 non-null int64\n",
      "Hours/Week       32561 non-null int64\n",
      "_Workclass       32561 non-null int64\n",
      "dtypes: int64(6)\n",
      "memory usage: 1.5 MB\n"
     ]
    }
   ],
   "source": [
    "X_train.info()"
   ]
  },
  {
   "cell_type": "code",
   "execution_count": 210,
   "metadata": {
    "scrolled": false
   },
   "outputs": [],
   "source": [
    "# instantiate the model (using the default parameters)\n",
    "logreg = LogisticRegression()"
   ]
  },
  {
   "cell_type": "code",
   "execution_count": 211,
   "metadata": {},
   "outputs": [
    {
     "name": "stderr",
     "output_type": "stream",
     "text": [
      "/home/guillain/myproject/pycon/pyconenv/lib/python3.5/site-packages/sklearn/linear_model/logistic.py:433: FutureWarning: Default solver will be changed to 'lbfgs' in 0.22. Specify a solver to silence this warning.\n",
      "  FutureWarning)\n"
     ]
    },
    {
     "data": {
      "text/plain": [
       "LogisticRegression(C=1.0, class_weight=None, dual=False, fit_intercept=True,\n",
       "          intercept_scaling=1, max_iter=100, multi_class='warn',\n",
       "          n_jobs=None, penalty='l2', random_state=None, solver='warn',\n",
       "          tol=0.0001, verbose=0, warm_start=False)"
      ]
     },
     "execution_count": 211,
     "metadata": {},
     "output_type": "execute_result"
    }
   ],
   "source": [
    "# fit the model with data\n",
    "logreg.fit(X_train,y_train)"
   ]
  },
  {
   "cell_type": "code",
   "execution_count": 212,
   "metadata": {
    "scrolled": false
   },
   "outputs": [],
   "source": [
    "y_test=logreg.predict(X_test)"
   ]
  },
  {
   "cell_type": "code",
   "execution_count": 213,
   "metadata": {},
   "outputs": [
    {
     "data": {
      "text/plain": [
       "array([0, 0, 0, ..., 0, 1, 1])"
      ]
     },
     "execution_count": 213,
     "metadata": {},
     "output_type": "execute_result"
    }
   ],
   "source": [
    "y_test"
   ]
  },
  {
   "cell_type": "code",
   "execution_count": 214,
   "metadata": {},
   "outputs": [],
   "source": [
    "test_data['Income predicted'] = y_test"
   ]
  },
  {
   "cell_type": "code",
   "execution_count": 215,
   "metadata": {},
   "outputs": [],
   "source": [
    "test_data['Income predicted'].replace(0, ' <=50K',inplace=True)\n",
    "test_data['Income predicted'].replace(1, ' >50K',inplace=True)"
   ]
  },
  {
   "cell_type": "code",
   "execution_count": 216,
   "metadata": {},
   "outputs": [
    {
     "data": {
      "text/html": [
       "<div>\n",
       "<style scoped>\n",
       "    .dataframe tbody tr th:only-of-type {\n",
       "        vertical-align: middle;\n",
       "    }\n",
       "\n",
       "    .dataframe tbody tr th {\n",
       "        vertical-align: top;\n",
       "    }\n",
       "\n",
       "    .dataframe thead th {\n",
       "        text-align: right;\n",
       "    }\n",
       "</style>\n",
       "<table border=\"1\" class=\"dataframe\">\n",
       "  <thead>\n",
       "    <tr style=\"text-align: right;\">\n",
       "      <th></th>\n",
       "      <th>Age</th>\n",
       "      <th>Workclass</th>\n",
       "      <th>fnlgwt</th>\n",
       "      <th>Education</th>\n",
       "      <th>Education num</th>\n",
       "      <th>Marital Status</th>\n",
       "      <th>Occupation</th>\n",
       "      <th>Relationship</th>\n",
       "      <th>Race</th>\n",
       "      <th>Sex</th>\n",
       "      <th>Capital Gain</th>\n",
       "      <th>Capital Loss</th>\n",
       "      <th>Hours/Week</th>\n",
       "      <th>Native country</th>\n",
       "      <th>Income</th>\n",
       "      <th>Income predicted</th>\n",
       "    </tr>\n",
       "  </thead>\n",
       "  <tbody>\n",
       "    <tr>\n",
       "      <th>0</th>\n",
       "      <td>25</td>\n",
       "      <td>Private</td>\n",
       "      <td>226802</td>\n",
       "      <td>11th</td>\n",
       "      <td>7</td>\n",
       "      <td>Never-married</td>\n",
       "      <td>Machine-op-inspct</td>\n",
       "      <td>Own-child</td>\n",
       "      <td>Black</td>\n",
       "      <td>Male</td>\n",
       "      <td>0</td>\n",
       "      <td>0</td>\n",
       "      <td>40</td>\n",
       "      <td>United-States</td>\n",
       "      <td>&lt;=50K.</td>\n",
       "      <td>&lt;=50K</td>\n",
       "    </tr>\n",
       "    <tr>\n",
       "      <th>1</th>\n",
       "      <td>38</td>\n",
       "      <td>Private</td>\n",
       "      <td>89814</td>\n",
       "      <td>HS-grad</td>\n",
       "      <td>9</td>\n",
       "      <td>Married-civ-spouse</td>\n",
       "      <td>Farming-fishing</td>\n",
       "      <td>Husband</td>\n",
       "      <td>White</td>\n",
       "      <td>Male</td>\n",
       "      <td>0</td>\n",
       "      <td>0</td>\n",
       "      <td>50</td>\n",
       "      <td>United-States</td>\n",
       "      <td>&lt;=50K.</td>\n",
       "      <td>&lt;=50K</td>\n",
       "    </tr>\n",
       "    <tr>\n",
       "      <th>2</th>\n",
       "      <td>28</td>\n",
       "      <td>Local-gov</td>\n",
       "      <td>336951</td>\n",
       "      <td>Assoc-acdm</td>\n",
       "      <td>12</td>\n",
       "      <td>Married-civ-spouse</td>\n",
       "      <td>Protective-serv</td>\n",
       "      <td>Husband</td>\n",
       "      <td>White</td>\n",
       "      <td>Male</td>\n",
       "      <td>0</td>\n",
       "      <td>0</td>\n",
       "      <td>40</td>\n",
       "      <td>United-States</td>\n",
       "      <td>&gt;50K.</td>\n",
       "      <td>&lt;=50K</td>\n",
       "    </tr>\n",
       "    <tr>\n",
       "      <th>3</th>\n",
       "      <td>44</td>\n",
       "      <td>Private</td>\n",
       "      <td>160323</td>\n",
       "      <td>Some-college</td>\n",
       "      <td>10</td>\n",
       "      <td>Married-civ-spouse</td>\n",
       "      <td>Machine-op-inspct</td>\n",
       "      <td>Husband</td>\n",
       "      <td>Black</td>\n",
       "      <td>Male</td>\n",
       "      <td>7688</td>\n",
       "      <td>0</td>\n",
       "      <td>40</td>\n",
       "      <td>United-States</td>\n",
       "      <td>&gt;50K.</td>\n",
       "      <td>&gt;50K</td>\n",
       "    </tr>\n",
       "    <tr>\n",
       "      <th>4</th>\n",
       "      <td>18</td>\n",
       "      <td>Private</td>\n",
       "      <td>103497</td>\n",
       "      <td>Some-college</td>\n",
       "      <td>10</td>\n",
       "      <td>Never-married</td>\n",
       "      <td>Prof-specialty</td>\n",
       "      <td>Own-child</td>\n",
       "      <td>White</td>\n",
       "      <td>Female</td>\n",
       "      <td>0</td>\n",
       "      <td>0</td>\n",
       "      <td>30</td>\n",
       "      <td>United-States</td>\n",
       "      <td>&lt;=50K.</td>\n",
       "      <td>&lt;=50K</td>\n",
       "    </tr>\n",
       "  </tbody>\n",
       "</table>\n",
       "</div>"
      ],
      "text/plain": [
       "   Age   Workclass  fnlgwt      Education  Education num       Marital Status  \\\n",
       "0   25     Private  226802           11th              7        Never-married   \n",
       "1   38     Private   89814        HS-grad              9   Married-civ-spouse   \n",
       "2   28   Local-gov  336951     Assoc-acdm             12   Married-civ-spouse   \n",
       "3   44     Private  160323   Some-college             10   Married-civ-spouse   \n",
       "4   18     Private  103497   Some-college             10        Never-married   \n",
       "\n",
       "           Occupation Relationship    Race      Sex  Capital Gain  \\\n",
       "0   Machine-op-inspct    Own-child   Black     Male             0   \n",
       "1     Farming-fishing      Husband   White     Male             0   \n",
       "2     Protective-serv      Husband   White     Male             0   \n",
       "3   Machine-op-inspct      Husband   Black     Male          7688   \n",
       "4      Prof-specialty    Own-child   White   Female             0   \n",
       "\n",
       "   Capital Loss  Hours/Week  Native country   Income Income predicted  \n",
       "0             0          40   United-States   <=50K.            <=50K  \n",
       "1             0          50   United-States   <=50K.            <=50K  \n",
       "2             0          40   United-States    >50K.            <=50K  \n",
       "3             0          40   United-States    >50K.             >50K  \n",
       "4             0          30   United-States   <=50K.            <=50K  "
      ]
     },
     "execution_count": 216,
     "metadata": {},
     "output_type": "execute_result"
    }
   ],
   "source": [
    "test_data.drop(['_Marital Status', '_Workclass', '_Occupation','_Relationship', '_Race', '_Sex', '_Income'],axis='columns',inplace=True)\n",
    "test_data.head()"
   ]
  },
  {
   "cell_type": "code",
   "execution_count": 217,
   "metadata": {},
   "outputs": [],
   "source": [
    "test_data.to_csv('submission.csv',index=False)"
   ]
  }
 ],
 "metadata": {
  "colab": {
   "include_colab_link": true,
   "name": "Untitled7.ipynb",
   "provenance": [],
   "version": "0.3.2"
  },
  "kernelspec": {
   "display_name": "Python 3",
   "language": "python",
   "name": "python3"
  },
  "language_info": {
   "codemirror_mode": {
    "name": "ipython",
    "version": 3
   },
   "file_extension": ".py",
   "mimetype": "text/x-python",
   "name": "python",
   "nbconvert_exporter": "python",
   "pygments_lexer": "ipython3",
   "version": "3.5.3"
  }
 },
 "nbformat": 4,
 "nbformat_minor": 1
}
